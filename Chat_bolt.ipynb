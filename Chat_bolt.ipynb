{
  "cells": [
    {
      "cell_type": "markdown",
      "metadata": {
        "id": "view-in-github",
        "colab_type": "text"
      },
      "source": [
        "<a href=\"https://colab.research.google.com/github/WalkiriaAz/WalkiriaAz/blob/main/Chat_bolt.ipynb\" target=\"_parent\"><img src=\"https://colab.research.google.com/assets/colab-badge.svg\" alt=\"Open In Colab\"/></a>"
      ]
    },
    {
      "cell_type": "markdown",
      "source": [
        "# Instalar biblioteca do Gemini\n",
        "!pip install -q google-generativeai\n",
        "\n",
        "# Importar bibliotecas necessárias\n",
        "import os\n",
        "from google.colab import userdata\n",
        "\n",
        "os.environ['GOOGLE_API_KEY'] = userdata.get('GOOGLE_API_KEY')\n",
        "\n",
        "# de onde ele importa\n",
        "from google import genai\n",
        "  \n",
        "client - genai.Client()\n",
        "\n",
        "for client in client.list_models():\n",
        "  print(model.name)\n",
        "\n",
        "# Escolher modelo\n",
        "modelo = 'gemini-2.0-flash'  \n",
        "\n",
        "# Exemplo simples de pergunta/resposta\n",
        "resposta = client.models.GenerateContent('model = modelo,\n",
        "contents =você sabe onde fica localizado o Cabo de Santo Agostinho?')\n",
        "\n",
        "# criar bloco para exibir resposta\n",
        "                                         \n",
        "   resposta.text                                      \n",
        "\n",
        "# Criar um chat com configuração personalizada ANTES de enviar a primeira mensagem\n",
        "\n",
        "chat = client.chats.creat(model = modelo)\n",
        "resposta = chat.send_message('Oi, tudo bem?')\n",
        "\n",
        "resposta.text\n",
        "\n",
        "resposta = chat.send_message('você sabe onde fica o Cabo de santo Agostinho?'\n",
        ")\n",
        "resposta.text\n",
        "\n",
        "# Criar outro chat com nova personalidade\n",
        "\n",
        "resposta = chat.send_messager(\"Você é um assistente bem humorado, empático e responde de forma sucinta.\")\n",
        "\n",
        "from google.genai import types\n",
        "\n",
        "chat_config =types.GeneratContentConfig(\n",
        "  system_instructcion = 'Você é um assistente bem humorado, empático e responde de forma sucinta.',\n",
        ")\n",
        "\n",
        "chat_2 = client.chats.creat('model = modelo, config=chat_config')\n",
        "resposta = chat.send_message('Oi, tudo bem?')\n",
        "\n",
        "# Exemplo de uso do segundo chat\n",
        "\n",
        "resposta = chat.send_messager(\"Você gosta de café?.\")\n",
        "\n",
        "resposta.text\n",
        "\n",
        "\n",
        "# Loop de interação com o usuário\n",
        "prompt = input('Digite o prompt:  ')\n",
        "\n",
        "while prompt != 'fim':\n",
        "    resposta = chat.send_message(prompt)\n",
        "    print('Resposta:',resposta.text)\n",
        "    print('\\n')\n",
        "    prompt = input('Digite o prompt: ')\n",
        "\n",
        "\n",
        "\n",
        "\n",
        "\n",
        "\n",
        "\n"
      ],
      "metadata": {
        "id": "6As4fOiZu0QN"
      }
    },
    {
      "cell_type": "code",
      "source": [],
      "metadata": {
        "id": "Uov5MgclGwnk"
      },
      "execution_count": null,
      "outputs": []
    },
    {
      "cell_type": "code",
      "source": [],
      "metadata": {
        "id": "U5x2Hmb6WpaH"
      },
      "execution_count": null,
      "outputs": []
    },
    {
      "cell_type": "code",
      "source": [],
      "metadata": {
        "id": "S-0qafUhWpWr"
      },
      "execution_count": null,
      "outputs": []
    },
    {
      "cell_type": "code",
      "source": [],
      "metadata": {
        "id": "9V4RJROCWpSx"
      },
      "execution_count": null,
      "outputs": []
    },
    {
      "cell_type": "markdown",
      "source": [
        "# Nova seção"
      ],
      "metadata": {
        "id": "XgSas7MZGEE-"
      }
    },
    {
      "cell_type": "code",
      "source": [],
      "metadata": {
        "id": "lESmtPX6FhrF"
      },
      "execution_count": null,
      "outputs": []
    },
    {
      "cell_type": "code",
      "source": [],
      "metadata": {
        "id": "XjU3WxeiFNxC"
      },
      "execution_count": null,
      "outputs": []
    }
  ],
  "metadata": {
    "colab": {
      "provenance": [],
      "authorship_tag": "ABX9TyM7vtENYgLeHqHALRzpq/Tb",
      "include_colab_link": true
    },
    "kernelspec": {
      "display_name": "Python 3",
      "name": "python3"
    },
    "language_info": {
      "name": "python"
    }
  },
  "nbformat": 4,
  "nbformat_minor": 0
}